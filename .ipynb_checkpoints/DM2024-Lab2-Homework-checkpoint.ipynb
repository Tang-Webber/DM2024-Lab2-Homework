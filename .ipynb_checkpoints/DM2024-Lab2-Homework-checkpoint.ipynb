{
 "cells": [
  {
   "cell_type": "markdown",
   "metadata": {},
   "source": [
    "### Student Information\n",
    "Name:唐文蔚\n",
    "\n",
    "Student ID:F74102022\n",
    "\n",
    "GitHub ID:Tang-Webber\n",
    "\n",
    "Kaggle name:weiweiwei23\n",
    "\n",
    "Kaggle private scoreboard snapshot:\n",
    "\n",
    "![snapshot](./snapshot.png)\n",
    "\n",
    "![snapshot2](./snapshot2.png)"
   ]
  },
  {
   "cell_type": "markdown",
   "metadata": {},
   "source": [
    "---"
   ]
  },
  {
   "cell_type": "markdown",
   "metadata": {},
   "source": [
    "### Instructions"
   ]
  },
  {
   "cell_type": "markdown",
   "metadata": {},
   "source": [
    "1. First: __This part is worth 30% of your grade.__ Do the **take home exercises** in the [DM2024-Lab2-master Repo](https://github.com/didiersalazar/DM2024-Lab2-Master). You may need to copy some cells from the Lab notebook to this notebook. \n",
    "\n",
    "\n",
    "2. Second: __This part is worth 30% of your grade.__ Participate in the in-class [Kaggle Competition](https://www.kaggle.com/competitions/dm-2024-isa-5810-lab-2-homework) regarding Emotion Recognition on Twitter by this link: https://www.kaggle.com/competitions/dm-2024-isa-5810-lab-2-homework. The scoring will be given according to your place in the Private Leaderboard ranking: \n",
    "    - **Bottom 40%**: Get 20% of the 30% available for this section.\n",
    "\n",
    "    - **Top 41% - 100%**: Get (0.6N + 1 - x) / (0.6N) * 10 + 20 points, where N is the total number of participants, and x is your rank. (ie. If there are 100 participants and you rank 3rd your score will be (0.6 * 100 + 1 - 3) / (0.6 * 100) * 10 + 20 = 29.67% out of 30%.)   \n",
    "    Submit your last submission **BEFORE the deadline (Nov. 26th, 11:59 pm, Tuesday)**. Make sure to take a screenshot of your position at the end of the competition and store it as '''pic0.png''' under the **img** folder of this repository and rerun the cell **Student Information**.\n",
    "    \n",
    "\n",
    "3. Third: __This part is worth 30% of your grade.__ A report of your work developing the model for the competition (You can use code and comment on it). This report should include what your preprocessing steps, the feature engineering steps and an explanation of your model. You can also mention different things you tried and insights you gained. \n",
    "\n",
    "\n",
    "4. Fourth: __This part is worth 10% of your grade.__ It's hard for us to follow if your code is messy :'(, so please **tidy up your notebook**.\n",
    "\n",
    "\n",
    "Upload your files to your repository then submit the link to it on the corresponding e-learn assignment.\n",
    "\n",
    "Make sure to commit and save your changes to your repository __BEFORE the deadline (Nov. 26th, 11:59 pm, Tuesday)__. "
   ]
  },
  {
   "cell_type": "code",
   "execution_count": 2,
   "metadata": {},
   "outputs": [],
   "source": [
    "### Begin Assignment Here"
   ]
  },
  {
   "cell_type": "markdown",
   "metadata": {
    "jp-MarkdownHeadingCollapsed": true
   },
   "source": [
    "### Step 1. Import Library and Dataset"
   ]
  },
  {
   "cell_type": "code",
   "execution_count": 2,
   "metadata": {},
   "outputs": [],
   "source": [
    "import json\n",
    "import pandas as pd\n",
    "import numpy as np\n",
    "import matplotlib.pyplot as plt\n",
    "from collections import Counter\n",
    "from sklearn.feature_extraction.text import TfidfVectorizer\n",
    "from sklearn.model_selection import train_test_split\n",
    "from sklearn.preprocessing import LabelEncoder\n",
    "from sklearn.ensemble import RandomForestClassifier\n",
    "from sklearn.metrics import classification_report, accuracy_score\n",
    "\n",
    "import os\n",
    "import json\n",
    "import re\n",
    "import emoji\n",
    "import pandas as pd\n",
    "\n",
    "import nltk\n",
    "import pickle\n",
    "from tqdm import tqdm\n",
    "\n",
    "import pandas as pd\n",
    "from sklearn.feature_extraction.text import TfidfVectorizer\n",
    "from sklearn.model_selection import train_test_split\n",
    "from sklearn.linear_model import LogisticRegression\n",
    "from sklearn.metrics import classification_report\n"
   ]
  },
  {
   "cell_type": "code",
   "execution_count": 3,
   "metadata": {},
   "outputs": [
    {
     "data": {
      "text/html": [
       "<div>\n",
       "<style scoped>\n",
       "    .dataframe tbody tr th:only-of-type {\n",
       "        vertical-align: middle;\n",
       "    }\n",
       "\n",
       "    .dataframe tbody tr th {\n",
       "        vertical-align: top;\n",
       "    }\n",
       "\n",
       "    .dataframe thead th {\n",
       "        text-align: right;\n",
       "    }\n",
       "</style>\n",
       "<table border=\"1\" class=\"dataframe\">\n",
       "  <thead>\n",
       "    <tr style=\"text-align: right;\">\n",
       "      <th></th>\n",
       "      <th>id</th>\n",
       "      <th>hashtags</th>\n",
       "      <th>content</th>\n",
       "      <th>emotion_label</th>\n",
       "      <th>data_split</th>\n",
       "    </tr>\n",
       "  </thead>\n",
       "  <tbody>\n",
       "    <tr>\n",
       "      <th>0</th>\n",
       "      <td>0x376b20</td>\n",
       "      <td>[Snapchat]</td>\n",
       "      <td>People who post \"add me on #Snapchat\" must be ...</td>\n",
       "      <td>anticipation</td>\n",
       "      <td>train</td>\n",
       "    </tr>\n",
       "    <tr>\n",
       "      <th>1</th>\n",
       "      <td>0x2d5350</td>\n",
       "      <td>[freepress, TrumpLegacy, CNN]</td>\n",
       "      <td>@brianklaas As we see, Trump is dangerous to #...</td>\n",
       "      <td>sadness</td>\n",
       "      <td>train</td>\n",
       "    </tr>\n",
       "    <tr>\n",
       "      <th>2</th>\n",
       "      <td>0x28b412</td>\n",
       "      <td>[bibleverse]</td>\n",
       "      <td>Confident of your obedience, I write to you, k...</td>\n",
       "      <td>NaN</td>\n",
       "      <td>test</td>\n",
       "    </tr>\n",
       "    <tr>\n",
       "      <th>3</th>\n",
       "      <td>0x1cd5b0</td>\n",
       "      <td>[]</td>\n",
       "      <td>Now ISSA is stalking Tasha 😂😂😂 &lt;LH&gt;</td>\n",
       "      <td>fear</td>\n",
       "      <td>train</td>\n",
       "    </tr>\n",
       "    <tr>\n",
       "      <th>4</th>\n",
       "      <td>0x2de201</td>\n",
       "      <td>[]</td>\n",
       "      <td>\"Trust is not the same as faith. A friend is s...</td>\n",
       "      <td>NaN</td>\n",
       "      <td>test</td>\n",
       "    </tr>\n",
       "  </tbody>\n",
       "</table>\n",
       "</div>"
      ],
      "text/plain": [
       "         id                       hashtags  \\\n",
       "0  0x376b20                     [Snapchat]   \n",
       "1  0x2d5350  [freepress, TrumpLegacy, CNN]   \n",
       "2  0x28b412                   [bibleverse]   \n",
       "3  0x1cd5b0                             []   \n",
       "4  0x2de201                             []   \n",
       "\n",
       "                                             content emotion_label data_split  \n",
       "0  People who post \"add me on #Snapchat\" must be ...  anticipation      train  \n",
       "1  @brianklaas As we see, Trump is dangerous to #...       sadness      train  \n",
       "2  Confident of your obedience, I write to you, k...           NaN       test  \n",
       "3                Now ISSA is stalking Tasha 😂😂😂 <LH>          fear      train  \n",
       "4  \"Trust is not the same as faith. A friend is s...           NaN       test  "
      ]
     },
     "execution_count": 3,
     "metadata": {},
     "output_type": "execute_result"
    }
   ],
   "source": [
    "import json\n",
    "import pandas as pd\n",
    "import numpy as np\n",
    "\n",
    "# file paths\n",
    "tweets_file_path = 'tweets_DM.json'\n",
    "data_identification_path = \"data_identification.csv\"\n",
    "emotion_labels_path = \"emotion.csv\"\n",
    "\n",
    "# Read data\n",
    "tweets_data = []\n",
    "with open(tweets_file_path, 'r') as file:\n",
    "    for line in file:\n",
    "        tweets_data.append(json.loads(line))\n",
    "\n",
    "split_mapping = pd.read_csv(data_identification_path, index_col=\"tweet_id\").to_dict()[\"identification\"]\n",
    "emotion_mapping = pd.read_csv(emotion_labels_path, index_col=\"tweet_id\").to_dict()[\"emotion\"]\n",
    "\n",
    "# Generate DataFrame\n",
    "tweets_dataset = (\n",
    "    {\n",
    "        \"id\": tweet[\"_source\"][\"tweet\"][\"tweet_id\"],\n",
    "        \"hashtags\": tweet[\"_source\"][\"tweet\"][\"hashtags\"],\n",
    "        \"content\": tweet[\"_source\"][\"tweet\"][\"text\"],\n",
    "        \"emotion_label\": emotion_mapping.get(tweet[\"_source\"][\"tweet\"][\"tweet_id\"], np.nan),\n",
    "        \"data_split\": split_mapping.get(tweet[\"_source\"][\"tweet\"][\"tweet_id\"], np.nan),\n",
    "    }\n",
    "    for tweet in tweets_data\n",
    ")\n",
    "df = pd.DataFrame(tweets_dataset)\n",
    "\n",
    "# View the first few rows\n",
    "df.head()"
   ]
  },
  {
   "cell_type": "markdown",
   "metadata": {
    "jp-MarkdownHeadingCollapsed": true
   },
   "source": [
    "### Step 2. Preprocessing\n",
    "From the above few rows of dataframe, we can find that there are some emojis (ex. 😂) and tags (ex. \\<LH>) in the content column.\n",
    "\n",
    "So, we transform some common emojis into words and delete other emojis and tags. "
   ]
  },
  {
   "cell_type": "code",
   "execution_count": 4,
   "metadata": {},
   "outputs": [],
   "source": [
    "# Create a dictionary of emojis and their corresponding labels\n",
    "emoji_dict = {\n",
    "    '😂': '[joy]',\n",
    "    '😍': '[love]',  \n",
    "    '😭': '[cry]',    \n",
    "    '😊': '[happy]',  \n",
    "    '😘': '[kiss]',    \n",
    "    '😩': '[weary]',\n",
    "    '🤔': '[think]', \n",
    "    '🙄': '[annoyed]',\n",
    "    '😁': '[happy]',\n",
    "    '❤️': '[heart]', \n",
    "    '💕': '[love]',\n",
    "    '🔥': '[fire]',\n",
    "    '💯': '[perfect]',\n",
    "    '🙌': '[cheer]',\n",
    "    '👍': '[nice]',\n",
    "    '🙏🏽': '[pray]',\n",
    "    '🙏': '[pray]',   \n",
    "}\n",
    "\n",
    "\n",
    "def clean_tweet(text, emoji_dict):\n",
    "    # Replace emojis\n",
    "    for emj, keyword in emoji_dict.items():\n",
    "        text = text.replace(emj, keyword)\n",
    "    # Remove remaining emojis\n",
    "    text = emoji.replace_emoji(text, replace='')\n",
    "    # Remove tags\n",
    "    text = re.sub(r'<LH>', '', text)\n",
    "    text = text.strip()\n",
    "    return text\n",
    "\n",
    "df['content'] = df['content'].apply(lambda x: clean_tweet(x, emoji_dict))"
   ]
  },
  {
   "cell_type": "markdown",
   "metadata": {
    "jp-MarkdownHeadingCollapsed": true
   },
   "source": [
    "### Step 3. Split data into train & test"
   ]
  },
  {
   "cell_type": "code",
   "execution_count": 5,
   "metadata": {},
   "outputs": [],
   "source": [
    "df_train = df[df['data_split'] == 'train'].drop(columns=\"data_split\")\n",
    "df_test = df[df['data_split'] == 'test'].drop(columns=\"data_split\")\n",
    "df_train.drop_duplicates(subset=['content'], keep=False, inplace=True)"
   ]
  },
  {
   "cell_type": "code",
   "execution_count": 6,
   "metadata": {},
   "outputs": [
    {
     "name": "stdout",
     "output_type": "stream",
     "text": [
      "Total examples:  1439344\n"
     ]
    },
    {
     "data": {
      "text/plain": [
       "emotion_label\n",
       "anger            39545\n",
       "anticipation    247839\n",
       "disgust         138811\n",
       "fear             63326\n",
       "joy             509310\n",
       "sadness         191558\n",
       "surprise         45402\n",
       "trust           203553\n",
       "dtype: int64"
      ]
     },
     "execution_count": 6,
     "metadata": {},
     "output_type": "execute_result"
    }
   ],
   "source": [
    "print(\"Total examples: \", len(df_train))\n",
    "df_train.groupby(\"emotion_label\").size()"
   ]
  },
  {
   "cell_type": "markdown",
   "metadata": {
    "jp-MarkdownHeadingCollapsed": true
   },
   "source": [
    "### (Extra) Down-Sampling\n",
    "Since the data is unbalnced, I try to down-sample to make all categories to the same size.\n",
    "But after experiments, it seems that ubalanced data doesn't matter"
   ]
  },
  {
   "cell_type": "code",
   "execution_count": 7,
   "metadata": {},
   "outputs": [
    {
     "name": "stdout",
     "output_type": "stream",
     "text": [
      "emotion_label\n",
      "anger           39545\n",
      "anticipation    39545\n",
      "disgust         39545\n",
      "fear            39545\n",
      "joy             39545\n",
      "sadness         39545\n",
      "surprise        39545\n",
      "trust           39545\n",
      "Name: count, dtype: int64\n"
     ]
    },
    {
     "name": "stderr",
     "output_type": "stream",
     "text": [
      "/tmp/ipykernel_2700114/245116476.py:8: DeprecationWarning: DataFrameGroupBy.apply operated on the grouping columns. This behavior is deprecated, and in a future version of pandas the grouping columns will be excluded from the operation. Either pass `include_groups=False` to exclude the groupings or explicitly select the grouping columns after groupby to silence this warning.\n",
      "  df_train.groupby('emotion_label', group_keys=False)\n"
     ]
    }
   ],
   "source": [
    "\"\"\"\n",
    "# Down-Sample for unbalanced data\n",
    "from sklearn.utils import resample\n",
    "label_counts = df_train.groupby(\"emotion_label\").size()\n",
    "\n",
    "min_samples = df_train[\"emotion_label\"].value_counts().min()\n",
    "\n",
    "balanced_train_df = (\n",
    "    df_train.groupby('emotion_label', group_keys=False)\n",
    "    .apply(lambda x: x.sample(n=min_samples, random_state=42))\n",
    ")\n",
    "\n",
    "print(balanced_train_df['emotion_label'].value_counts())\n",
    "df_train = balanced_train_df\n",
    "\"\"\""
   ]
  },
  {
   "cell_type": "code",
   "execution_count": 8,
   "metadata": {},
   "outputs": [
    {
     "data": {
      "text/html": [
       "<div>\n",
       "<style scoped>\n",
       "    .dataframe tbody tr th:only-of-type {\n",
       "        vertical-align: middle;\n",
       "    }\n",
       "\n",
       "    .dataframe tbody tr th {\n",
       "        vertical-align: top;\n",
       "    }\n",
       "\n",
       "    .dataframe thead th {\n",
       "        text-align: right;\n",
       "    }\n",
       "</style>\n",
       "<table border=\"1\" class=\"dataframe\">\n",
       "  <thead>\n",
       "    <tr style=\"text-align: right;\">\n",
       "      <th></th>\n",
       "      <th>id</th>\n",
       "      <th>hashtags</th>\n",
       "      <th>content</th>\n",
       "      <th>emotion_label</th>\n",
       "    </tr>\n",
       "  </thead>\n",
       "  <tbody>\n",
       "    <tr>\n",
       "      <th>50925</th>\n",
       "      <td>0x2a1a1f</td>\n",
       "      <td>[blog, shoponline, weirdo]</td>\n",
       "      <td>Let's get weird  SoCal Residents on the Hunt f...</td>\n",
       "      <td>surprise</td>\n",
       "    </tr>\n",
       "    <tr>\n",
       "      <th>1846286</th>\n",
       "      <td>0x2d187f</td>\n",
       "      <td>[beginning, knowledge, fools, wisdom]</td>\n",
       "      <td>@bruyne_kdb17 @MesutOzil1088 Proverbs 1:7 The ...</td>\n",
       "      <td>fear</td>\n",
       "    </tr>\n",
       "    <tr>\n",
       "      <th>843557</th>\n",
       "      <td>0x1d731b</td>\n",
       "      <td>[annoYonce]</td>\n",
       "      <td>@ChinYugyeom @GOT7Official we will rise with t...</td>\n",
       "      <td>anger</td>\n",
       "    </tr>\n",
       "    <tr>\n",
       "      <th>313667</th>\n",
       "      <td>0x267d4e</td>\n",
       "      <td>[breakfast, delicious, healthy, coffee]</td>\n",
       "      <td>My #breakfast @ @UrbanPod_India: #delicious #h...</td>\n",
       "      <td>joy</td>\n",
       "    </tr>\n",
       "    <tr>\n",
       "      <th>901089</th>\n",
       "      <td>0x316b40</td>\n",
       "      <td>[Trumpkins]</td>\n",
       "      <td>Someone really needs to explain to @FoxNews th...</td>\n",
       "      <td>sadness</td>\n",
       "    </tr>\n",
       "  </tbody>\n",
       "</table>\n",
       "</div>"
      ],
      "text/plain": [
       "               id                                 hashtags  \\\n",
       "50925    0x2a1a1f               [blog, shoponline, weirdo]   \n",
       "1846286  0x2d187f    [beginning, knowledge, fools, wisdom]   \n",
       "843557   0x1d731b                              [annoYonce]   \n",
       "313667   0x267d4e  [breakfast, delicious, healthy, coffee]   \n",
       "901089   0x316b40                              [Trumpkins]   \n",
       "\n",
       "                                                   content emotion_label  \n",
       "50925    Let's get weird  SoCal Residents on the Hunt f...      surprise  \n",
       "1846286  @bruyne_kdb17 @MesutOzil1088 Proverbs 1:7 The ...          fear  \n",
       "843557   @ChinYugyeom @GOT7Official we will rise with t...         anger  \n",
       "313667   My #breakfast @ @UrbanPod_India: #delicious #h...           joy  \n",
       "901089   Someone really needs to explain to @FoxNews th...       sadness  "
      ]
     },
     "execution_count": 8,
     "metadata": {},
     "output_type": "execute_result"
    }
   ],
   "source": [
    "df_train = df_train.sample(frac=1)\n",
    "df_test = df_test.sample(frac=1)\n",
    "df_train.head()"
   ]
  },
  {
   "cell_type": "markdown",
   "metadata": {
    "jp-MarkdownHeadingCollapsed": true
   },
   "source": [
    "### Step 4. Prepare training & validation data"
   ]
  },
  {
   "cell_type": "code",
   "execution_count": null,
   "metadata": {},
   "outputs": [],
   "source": [
    "# set dict for the labels\n",
    "label_map = {\n",
    "    'anger': 0, 'anticipation': 1, 'disgust': 2, 'fear': 3,\n",
    "    'joy': 4, 'sadness': 5, 'surprise': 6, 'trust': 7\n",
    "}\n",
    "reverse_label_map = {v: k for k, v in label_map.items()}\n",
    "\n",
    "df_train['label'] = df_train['emotion_label'].map(label_map)\n",
    "X = df_train['content']\n",
    "y = df_train['label']\n",
    "\n",
    "# train_val split\n",
    "X_train, X_test, y_train, y_test = train_test_split(X, y, test_size=0.2, random_state=42, stratify=y)\n"
   ]
  },
  {
   "cell_type": "markdown",
   "metadata": {
    "jp-MarkdownHeadingCollapsed": true
   },
   "source": [
    "### Step 5. Encoding\n",
    "Because we can't directly use text data as input, I tried a few ways to transform text data into vector.\n"
   ]
  },
  {
   "cell_type": "markdown",
   "metadata": {},
   "source": [
    "#### (I) Sparse - TF-IDF\n",
    "Use tf-idf to turn text into sparse vector."
   ]
  },
  {
   "cell_type": "code",
   "execution_count": null,
   "metadata": {},
   "outputs": [],
   "source": [
    "vectorizer = TfidfVectorizer(max_features=10000, ngram_range=(1, 2))\n",
    "X_train_tfidf = vectorizer.fit_transform(X_train)\n",
    "X_test_tfidf = vectorizer.transform(X_test)"
   ]
  },
  {
   "cell_type": "markdown",
   "metadata": {},
   "source": [
    "#### (II) Dense - Text Embedding Model\n",
    "Use SentenceTransformer 'multilingual-e5-large' to get dense vector."
   ]
  },
  {
   "cell_type": "code",
   "execution_count": null,
   "metadata": {},
   "outputs": [],
   "source": [
    "model = SentenceTransformer('intfloat/multilingual-e5-large')\n",
    "X_train_embeddings = model.encode(X_train.tolist(), show_progress_bar=True)\n",
    "X_test_embeddings = model.encode(X_test.tolist(), show_progress_bar=True)"
   ]
  },
  {
   "cell_type": "markdown",
   "metadata": {
    "jp-MarkdownHeadingCollapsed": true
   },
   "source": [
    "### Step 6. Classifying\n",
    "I use several conbination of Encoder and classifier to test the performance.\n",
    "\n",
    "\n",
    "| # | Encoder | Classifier | Public Score | Private Score |\n",
    "|:---:|:---:|:---:|:---:|:---:|\n",
    "| 1 | multilingual-e5-large | K-Nearest-Neighbor | 0.499 | 0.483 |\n",
    "| 2 | | BertForSequenceClassification | 0.469 | 0.455 |\n",
    "| 3 | multilingual-e5-large | Logistic Regression | 0.466 | 0.448 |\n",
    "| 4 | TF-IDF | Logistic Regression | 0.423 | 0.407 |\n",
    "| 5 | TF-IDF | Naive-Bayes | 0.393 | 0.375 |\n",
    "| 6 | TF-IDF | LightGBM | 0.375 | 0.360 |\n",
    "| 7 | TF-IDF | SVM | 0.236 | 0.237 |\n",
    "| 8 | multilingual-e5-large | Neural Network | 0.165 | 0.187 |\n",
    "\n",
    "After testing, it seems that using SentenceTransformer with K-Nearest-Neighbor can get the best performance if only use single model.\n"
   ]
  },
  {
   "cell_type": "markdown",
   "metadata": {
    "jp-MarkdownHeadingCollapsed": true
   },
   "source": [
    "#### Example 1 : TF-IDF as Encoder with Logistic Regression as classifier"
   ]
  },
  {
   "cell_type": "code",
   "execution_count": null,
   "metadata": {},
   "outputs": [],
   "source": [
    "vectorizer = TfidfVectorizer(max_features=10000, ngram_range=(1, 2))\n",
    "X_train_tfidf = vectorizer.fit_transform(X_train)\n",
    "X_test_tfidf = vectorizer.transform(X_test)\n",
    "\n",
    "clf = LogisticRegression(max_iter=1000, random_state=42)\n",
    "clf.fit(X_train_tfidf, y_train)\n",
    "\n",
    "y_pred = clf.predict(X_test_tfidf)\n",
    "print(classification_report(y_test, y_pred, target_names=[reverse_label_map[i] for i in range(len(label_map))]))\n",
    "\n",
    "df_test_tfidf = vectorizer.transform(df_test['content'])\n",
    "df_test['predicted_label'] = clf.predict(df_test_tfidf)\n",
    "df_test['emotion'] = df_test['predicted_label'].map(reverse_label_map)\n",
    "\n",
    "output = df_test[['id', 'emotion']]\n",
    "output.to_csv('predicted_emotions_1.csv', index=False)\n",
    "print(\"Saved to predicted_emotions_1.csv\")"
   ]
  },
  {
   "cell_type": "markdown",
   "metadata": {
    "jp-MarkdownHeadingCollapsed": true
   },
   "source": [
    "#### Example 2 : SentenceTransformer as Encoder with K-Nearest-Neighbor as classifier"
   ]
  },
  {
   "cell_type": "code",
   "execution_count": null,
   "metadata": {},
   "outputs": [],
   "source": [
    "model = SentenceTransformer('intfloat/multilingual-e5-large')\n",
    "X_train_embeddings = model.encode(X_train.tolist(), show_progress_bar=True)\n",
    "X_test_embeddings = model.encode(X_test.tolist(), show_progress_bar=True)\n",
    "\n",
    "clf = KNeighborsClassifier(n_neighbors=20)\n",
    "clf.fit(X_train_embeddings, y_train)\n",
    "\n",
    "y_pred = clf.predict(X_test_embeddings)\n",
    "print(classification_report(y_test, y_pred, target_names=[reverse_label_map[i] for i in range(len(label_map))]))\n",
    "\n",
    "df_test_embeddings = model.encode(df_test['content'].tolist(), show_progress_bar=True)\n",
    "df_test['predicted_label'] = clf.predict(df_test_embeddings)\n",
    "df_test['emotion'] = df_test['predicted_label'].map(reverse_label_map)\n",
    "\n",
    "df_test[['id', 'emotion']].to_csv('predicted_emotions_4.csv', index=False)\n"
   ]
  },
  {
   "cell_type": "markdown",
   "metadata": {},
   "source": [
    "For choosing hyperparemeter of KNN (k), I plot a curve to find out the best k, and it seems that the choose of k doesn't significantly change the result.\n"
   ]
  },
  {
   "cell_type": "code",
   "execution_count": 34,
   "metadata": {},
   "outputs": [
    {
     "name": "stdout",
     "output_type": "stream",
     "text": [
      "k=5, F1 Score=0.5535890971428357\n",
      "k=10, F1 Score=0.5663400071698093\n",
      "k=15, F1 Score=0.569287963815516\n",
      "k=20, F1 Score=0.5699013948338362\n",
      "k=25, F1 Score=0.5698001452528162\n",
      "k=30, F1 Score=0.5695707259172089\n",
      "k=35, F1 Score=0.5678405060887591\n",
      "k=40, F1 Score=0.5667869089132466\n",
      "k=45, F1 Score=0.5664138614309522\n",
      "k=50, F1 Score=0.5647329347900865\n",
      "k=55, F1 Score=0.5635790429901766\n",
      "k=60, F1 Score=0.5627004795399552\n"
     ]
    },
    {
     "data": {
      "image/png": "[encoded data removed]",
      "text/plain": [
       "<Figure size 640x480 with 1 Axes>"
      ]
     },
     "metadata": {},
     "output_type": "display_data"
    }
   ],
   "source": [
    "import lightgbm as lgb\n",
    "from sklearn.neighbors import KNeighborsClassifier\n",
    "from sklearn.linear_model import LogisticRegression\n",
    "from sklearn.neural_network import MLPClassifier\n",
    "from sklearn.ensemble import RandomForestClassifier\n",
    "from sklearn.naive_bayes import MultinomialNB\n",
    "import pickle\n",
    "from sklearn.metrics import classification_report, f1_score\n",
    "import pandas as pd\n",
    "from sklearn.ensemble import VotingClassifier\n",
    "from sklearn.base import BaseEstimator, ClassifierMixin\n",
    "import numpy as np\n",
    "import matplotlib.pyplot as plt\n",
    "\n",
    "with open('tfidf.pkl', 'rb') as f:\n",
    "    X_train_tfidf, X_test_tfidf, y_train, y_test = pickle.load(f)\n",
    "with open('multilingual-e5-large.pkl', 'rb') as f:\n",
    "    X_train_embeddings, X_test_embeddings, y_train, y_test = pickle.load(f)\n",
    "with open('multilingual-e5-large_df_test_embeddings.pkl', 'rb') as f:\n",
    "    df_test_embeddings = pickle.load(f)\n",
    "with open('df_test_tfidf.pkl', 'rb') as f:\n",
    "    df_test_tfidf = pickle.load(f)\n",
    "\n",
    "# Define the range of k values to test\n",
    "k_values = range(5, 65, 5)\n",
    "f1_scores = []\n",
    "\n",
    "for k in k_values:\n",
    "    clf = KNeighborsClassifier(n_neighbors=k)\n",
    "    clf.fit(X_train_embeddings, y_train)\n",
    "    y_pred = clf.predict(X_test_embeddings)\n",
    "    f1 = f1_score(y_test, y_pred, average='weighted')\n",
    "    f1_scores.append(f1)\n",
    "    print(f\"k={k}, F1 Score={f1}\")\n",
    "\n",
    "# Plot the F1 scores\n",
    "plt.plot(k_values, f1_scores, marker='o')\n",
    "plt.xlabel('Number of Neighbors (k)')\n",
    "plt.ylabel('F1 Score')\n",
    "plt.title('F1 Score vs. Number of Neighbors (k)')\n",
    "plt.grid(True)\n",
    "plt.show()\n"
   ]
  },
  {
   "cell_type": "markdown",
   "metadata": {
    "jp-MarkdownHeadingCollapsed": true
   },
   "source": [
    "#### Example 3 : BertForSequenceClassification"
   ]
  },
  {
   "cell_type": "code",
   "execution_count": null,
   "metadata": {},
   "outputs": [],
   "source": [
    "import pandas as pd\n",
    "from sklearn.model_selection import train_test_split\n",
    "from transformers import BertTokenizer, BertForSequenceClassification\n",
    "from transformers import Trainer, TrainingArguments\n",
    "from torch.utils.data import Dataset\n",
    "import torch\n",
    "\n",
    "data = df_train\n",
    "\n",
    "# Preprocessing\n",
    "data['content'] = data['content'].astype(str)\n",
    "label_map = {\n",
    "    'anger': 0, 'anticipation': 1, 'disgust': 2, 'fear': 3,\n",
    "    'joy': 4, 'sadness': 5, 'surprise': 6, 'trust': 7\n",
    "}\n",
    "data['emotion_label'] = data['emotion_label'].map(label_map)\n",
    "\n",
    "# Split the data into train and test sets\n",
    "train_texts, val_texts, train_labels, val_labels = train_test_split(\n",
    "    data['content'].tolist(),\n",
    "    data['emotion_label'].tolist(),\n",
    "    test_size=0.1,\n",
    "    random_state=23\n",
    ")\n",
    "\n",
    "# Load tokenizer\n",
    "tokenizer = BertTokenizer.from_pretrained(\"bert-base-uncased\")\n",
    "\n",
    "# Tokenize the data\n",
    "class EmotionDataset(Dataset):\n",
    "    def __init__(self, texts, labels, tokenizer, max_len=128):\n",
    "        self.texts = texts\n",
    "        self.labels = labels\n",
    "        self.tokenizer = tokenizer\n",
    "        self.max_len = max_len\n",
    "\n",
    "    def __len__(self):\n",
    "        return len(self.texts)\n",
    "\n",
    "    def __getitem__(self, idx):\n",
    "        text = self.texts[idx]\n",
    "        label = self.labels[idx]\n",
    "        \n",
    "        encoding = self.tokenizer(\n",
    "            text,\n",
    "            max_length=self.max_len,\n",
    "            padding='max_length',\n",
    "            truncation=True,\n",
    "            return_tensors=\"pt\"\n",
    "        )\n",
    "\n",
    "        return {\n",
    "            'input_ids': encoding['input_ids'].squeeze(0),\n",
    "            'attention_mask': encoding['attention_mask'].squeeze(0),\n",
    "            'labels': torch.tensor(label, dtype=torch.long)\n",
    "        }\n",
    "\n",
    "train_dataset = EmotionDataset(train_texts, train_labels, tokenizer)\n",
    "val_dataset = EmotionDataset(val_texts, val_labels, tokenizer)\n",
    "\n",
    "# Load pre-trained model\n",
    "model = BertForSequenceClassification.from_pretrained(\n",
    "    \"bert-base-uncased\",\n",
    "    num_labels=8\n",
    ")\n",
    "\n",
    "# Define training arguments\n",
    "training_args = TrainingArguments(\n",
    "    output_dir=\"./results\",\n",
    "    evaluation_strategy=\"epoch\",\n",
    "    learning_rate=2e-5,\n",
    "    per_device_train_batch_size=16,\n",
    "    per_device_eval_batch_size=16,\n",
    "    num_train_epochs=3,\n",
    "    weight_decay=0.01,\n",
    "    logging_dir=\"./logs\",\n",
    "    logging_steps=10,\n",
    "    save_strategy=\"epoch\",\n",
    "    load_best_model_at_end=True\n",
    ")\n",
    "\n",
    "# Define Trainer\n",
    "trainer = Trainer(\n",
    "    model=model,\n",
    "    args=training_args,\n",
    "    train_dataset=train_dataset,\n",
    "    eval_dataset=val_dataset,\n",
    "    tokenizer=tokenizer\n",
    ")\n",
    "\n",
    "# Train the model\n",
    "trainer.train()\n",
    "\n",
    "# Save the model\n",
    "trainer.save_model(\"./emotion_classifier\")\n"
   ]
  },
  {
   "cell_type": "code",
   "execution_count": null,
   "metadata": {},
   "outputs": [],
   "source": [
    "# Load the trained model and tokenizer\n",
    "model_path = \"./emotion_classifier\"\n",
    "model = BertForSequenceClassification.from_pretrained(model_path)\n",
    "tokenizer = BertTokenizer.from_pretrained(model_path)\n",
    "\n",
    "model.eval()\n",
    "label_map = {\n",
    "    0: 'anger', 1: 'anticipation', 2: 'disgust', 3: 'fear',\n",
    "    4: 'joy', 5: 'sadness', 6: 'surprise', 7: 'trust'\n",
    "}\n",
    "\n",
    "# Predict emotions\n",
    "def predict_emotion(text):\n",
    "    inputs = tokenizer(\n",
    "        text,\n",
    "        max_length=128,\n",
    "        padding=\"max_length\",\n",
    "        truncation=True,\n",
    "        return_tensors=\"pt\"\n",
    "    )\n",
    "\n",
    "    with torch.no_grad():\n",
    "        outputs = model(\n",
    "            input_ids=inputs[\"input_ids\"],\n",
    "            attention_mask=inputs[\"attention_mask\"]\n",
    "        )\n",
    "\n",
    "    logits = outputs.logits\n",
    "    predicted_label = torch.argmax(logits, dim=1).item()\n",
    "    return label_map[predicted_label]\n",
    "\n",
    "# Apply the model to test data\n",
    "df_test['emotion'] = df_test['content'].apply(predict_emotion)\n",
    "\n",
    "# Save the result to a CSV file\n",
    "output_df = df_test[['tweet_id', 'emotion']]\n",
    "output_df.rename(columns={'tweet_id': 'id'}, inplace=True)\n",
    "output_df.to_csv(\"test_predictions.csv\", index=False)\n",
    "\n",
    "print(\"Predictions saved to test_predictions.csv\")"
   ]
  },
  {
   "cell_type": "markdown",
   "metadata": {},
   "source": [
    "### Step 7. Aggregate Model\n",
    "I tried to use multiple model to vote and get final answer.\n",
    "\n",
    "I have tried Hard voting, soft voting and soft voting with f1-score weighted\n",
    "\n",
    "And the result is that using top3 model in the above table to do hard voting can get the highest score.\n",
    "\n",
    "| # | Voting | Model | Public Score | Private Score |\n",
    "|:---:|:---:|:---:|:---:|:---:|\n",
    "| 1 | Hard | 1. 2. 3. | 0.508 | 0.492 |\n"
   ]
  },
  {
   "cell_type": "markdown",
   "metadata": {},
   "source": [
    "#### 7-1 Soft Voting"
   ]
  },
  {
   "cell_type": "code",
   "execution_count": null,
   "metadata": {},
   "outputs": [],
   "source": [
    "import lightgbm as lgb\n",
    "from sklearn.neighbors import KNeighborsClassifier\n",
    "from sklearn.linear_model import LogisticRegression\n",
    "from sklearn.neural_network import MLPClassifier\n",
    "from sklearn.ensemble import RandomForestClassifier\n",
    "from sklearn.naive_bayes import MultinomialNB\n",
    "import pickle\n",
    "from sklearn.metrics import classification_report\n",
    "import pandas as pd\n",
    "from sklearn.ensemble import VotingClassifier\n",
    "\n",
    "with open('tfidf.pkl', 'rb') as f:\n",
    "    X_train_tfidf, X_test_tfidf, y_train, y_test = pickle.load(f)\n",
    "with open('multilingual-e5-large.pkl', 'rb') as f:\n",
    "    X_train_embeddings, X_test_embeddings, y_train, y_test = pickle.load(f)\n",
    "\n",
    "# Define classifiers\n",
    "clf1 = MultinomialNB()\n",
    "clf2 = LogisticRegression(max_iter=1000)\n",
    "clf3 = RandomForestClassifier()\n",
    "clf4 = lgb.LGBMClassifier()\n",
    "clf5 = MLPClassifier(max_iter=1000)\n",
    "clf6 = LogisticRegression(max_iter=1000)\n",
    "\n",
    "# Train classifiers\n",
    "clf1.fit(X_train_tfidf, y_train)\n",
    "clf2.fit(X_train_tfidf, y_train)\n",
    "clf3.fit(X_train_tfidf, y_train)\n",
    "clf4.fit(X_train_embeddings, y_train)\n",
    "clf5.fit(X_train_embeddings, y_train)\n",
    "clf6.fit(X_train_embeddings, y_train)\n",
    "\n",
    "from sklearn.base import BaseEstimator, ClassifierMixin\n",
    "from sklearn.ensemble import VotingClassifier\n",
    "\n",
    "class MultiInputVotingClassifier(BaseEstimator, ClassifierMixin):\n",
    "    def __init__(self, estimators, voting='soft'):\n",
    "        self.estimators = estimators\n",
    "        self.voting = voting\n",
    "\n",
    "    def fit(self, X, y):\n",
    "        for name, estimator, input_key in self.estimators:\n",
    "            estimator.fit(X[input_key], y)\n",
    "        return self\n",
    "\n",
    "    def predict(self, X):\n",
    "        predictions = []\n",
    "        for name, estimator, input_key in self.estimators:\n",
    "            predictions.append(estimator.predict_proba(X[input_key]))\n",
    "        avg_predictions = np.mean(predictions, axis=0)\n",
    "        return np.argmax(avg_predictions, axis=1)\n",
    "\n",
    "# 定義模型及對應輸入\n",
    "multi_voting_clf = MultiInputVotingClassifier(estimators=[\n",
    "    ('nb', clf1, 'tfidf'), \n",
    "    ('lr_t', clf2, 'tfidf'), \n",
    "    ('rf', clf3, 'tfidf'), \n",
    "    ('lgb', clf4, 'embedding'), \n",
    "    ('mlp', clf5, 'embedding'),\n",
    "    ('lr_e', clf6, 'embedding'), \n",
    "])\n",
    "\n",
    "# 定義多輸入數據\n",
    "X_train_multi = {'tfidf': X_train_tfidf, 'embedding': X_train_embeddings}\n",
    "X_test_multi = {'tfidf': X_test_tfidf, 'embedding': X_test_embeddings}\n",
    "\n",
    "# 訓練與測試\n",
    "# multi_voting_clf.fit(X_train_multi, y_train)\n",
    "y_pred = multi_voting_clf.predict(X_test_multi)\n",
    "\n",
    "print(classification_report(y_test, y_pred, target_names=[reverse_label_map[i] for i in range(len(label_map))]))\n",
    "\n",
    "# Predict on test data\n",
    "\n",
    "with open('multilingual-e5-large_df_test_embeddings.pkl', 'rb') as f:\n",
    "    df_test_embeddings = pickle.load(f)\n",
    "df_test_tfidf = vectorizer.transform(df_test['content'])\n",
    "\n",
    "X_test_multi = {'tfidf': df_test_tfidf, 'embedding': df_test_embeddings}\n",
    "\n",
    "df_test['predicted_label'] = multi_voting_clf.predict(X_test_multi)\n",
    "df_test['emotion'] = df_test['predicted_label'].map(reverse_label_map)\n",
    "\n",
    "# Save results to CSV\n",
    "output = df_test[['id', 'emotion']]\n",
    "output.to_csv('predicted_emotions_ensemble_multiple.csv', index=False)\n",
    "print(\"Saved to predicted_emotions_ensemble_multiple.csv\")"
   ]
  },
  {
   "cell_type": "markdown",
   "metadata": {},
   "source": [
    "#### 7-2 Hard voting (using predict output csv file)"
   ]
  },
  {
   "cell_type": "code",
   "execution_count": null,
   "metadata": {},
   "outputs": [],
   "source": [
    "# Load the prediction results from the CSV files\n",
    "test_predictions = pd.read_csv('test_predictions.csv')\n",
    "predicted_emotions_logistic = pd.read_csv('predicted_emotions_all_embedding_logistic.csv')\n",
    "predicted_emotions_knn = pd.read_csv('predicted_emotions_all_embedding_knn.csv')\n",
    "\n",
    "# Ensure the order of IDs is the same in all files by sorting them\n",
    "test_predictions = test_predictions.sort_values(by='id').reset_index(drop=True)\n",
    "predicted_emotions_logistic = predicted_emotions_logistic.sort_values(by='id').reset_index(drop=True)\n",
    "predicted_emotions_knn = predicted_emotions_knn.sort_values(by='id').reset_index(drop=True)\n",
    "\n",
    "# Ensure the order of IDs is the same in all files\n",
    "assert (test_predictions['id'] == predicted_emotions_logistic['id']).all()\n",
    "assert (test_predictions['id'] == predicted_emotions_knn['id']).all()\n",
    "\n",
    "# Perform hard voting\n",
    "predictions = pd.DataFrame({\n",
    "    'test_predictions': test_predictions['emotion'],\n",
    "    'logistic': predicted_emotions_logistic['emotion'],\n",
    "    'knn': predicted_emotions_knn['emotion']\n",
    "})\n",
    "\n",
    "# Get the mode of the predictions\n",
    "hard_voted_predictions = predictions.mode(axis=1)[0]\n",
    "\n",
    "# Create the final DataFrame with the hard voted predictions\n",
    "final_predictions = pd.DataFrame({\n",
    "    'id': test_predictions['id'],\n",
    "    'emotion': hard_voted_predictions\n",
    "})\n",
    "\n",
    "# Save the final predictions to a CSV file\n",
    "final_predictions.to_csv('hard_voted_predictions.csv', index=False)\n",
    "print(\"Saved to hard_voted_predictions.csv\")\n"
   ]
  },
  {
   "cell_type": "code",
   "execution_count": null,
   "metadata": {},
   "outputs": [],
   "source": []
  }
 ],
 "metadata": {
  "kernelspec": {
   "display_name": "Python 3 (ipykernel)",
   "language": "python",
   "name": "python3"
  },
  "language_info": {
   "codemirror_mode": {
    "name": "ipython",
    "version": 3
   },
   "file_extension": ".py",
   "mimetype": "text/x-python",
   "name": "python",
   "nbconvert_exporter": "python",
   "pygments_lexer": "ipython3",
   "version": "3.9.19"
  },
  "varInspector": {
   "cols": {
    "lenName": 16,
    "lenType": 16,
    "lenVar": 40
   },
   "kernels_config": {
    "python": {
     "delete_cmd_postfix": "",
     "delete_cmd_prefix": "del ",
     "library": "var_list.py",
     "varRefreshCmd": "print(var_dic_list())"
    },
    "r": {
     "delete_cmd_postfix": ") ",
     "delete_cmd_prefix": "rm(",
     "library": "var_list.r",
     "varRefreshCmd": "cat(var_dic_list()) "
    }
   },
   "types_to_exclude": [
    "module",
    "function",
    "builtin_function_or_method",
    "instance",
    "_Feature"
   ],
   "window_display": false
  }
 },
 "nbformat": 4,
 "nbformat_minor": 4
}
